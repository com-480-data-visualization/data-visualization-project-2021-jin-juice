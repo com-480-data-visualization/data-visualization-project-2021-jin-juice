{
 "cells": [
  {
   "cell_type": "markdown",
   "id": "9c330e14",
   "metadata": {},
   "source": [
    "# Cleaning Data for D3\n",
    "\n",
    "This notebook uses the `reverse_geocoder` package to obtain State and County information for data points in the USA. It can be installed using:\n",
    "\n",
    "`pip install reverse_geocoder`"
   ]
  },
  {
   "cell_type": "markdown",
   "id": "94b22531",
   "metadata": {},
   "source": [
    "## Setup"
   ]
  },
  {
   "cell_type": "markdown",
   "id": "88ba7ea6",
   "metadata": {},
   "source": [
    "### Imports"
   ]
  },
  {
   "cell_type": "code",
   "execution_count": 55,
   "id": "5ebdbbcd",
   "metadata": {},
   "outputs": [],
   "source": [
    "import json as json\n",
    "from datetime import datetime\n",
    "\n",
    "import numpy as np\n",
    "import pandas as pd\n",
    "import reverse_geocoder as rg\n",
    "\n",
    "from tqdm import tqdm"
   ]
  },
  {
   "cell_type": "markdown",
   "id": "a4b9ef11",
   "metadata": {},
   "source": [
    "### Path to Data"
   ]
  },
  {
   "cell_type": "code",
   "execution_count": 2,
   "id": "ff4bdb29",
   "metadata": {},
   "outputs": [],
   "source": [
    "geodata_path = 'data/parler-videos-geocoded.csv'"
   ]
  },
  {
   "cell_type": "markdown",
   "id": "7784cc7d",
   "metadata": {},
   "source": [
    "## Obtaining State and County Information"
   ]
  },
  {
   "cell_type": "markdown",
   "id": "b378ef99",
   "metadata": {},
   "source": [
    "### Loading Data"
   ]
  },
  {
   "cell_type": "code",
   "execution_count": 3,
   "id": "850f48b9",
   "metadata": {
    "scrolled": true
   },
   "outputs": [
    {
     "data": {
      "text/html": [
       "<div>\n",
       "<style scoped>\n",
       "    .dataframe tbody tr th:only-of-type {\n",
       "        vertical-align: middle;\n",
       "    }\n",
       "\n",
       "    .dataframe tbody tr th {\n",
       "        vertical-align: top;\n",
       "    }\n",
       "\n",
       "    .dataframe thead th {\n",
       "        text-align: right;\n",
       "    }\n",
       "</style>\n",
       "<table border=\"1\" class=\"dataframe\">\n",
       "  <thead>\n",
       "    <tr style=\"text-align: right;\">\n",
       "      <th></th>\n",
       "      <th>Longitude</th>\n",
       "      <th>Latitude</th>\n",
       "      <th>Timestamp</th>\n",
       "      <th>ID</th>\n",
       "    </tr>\n",
       "  </thead>\n",
       "  <tbody>\n",
       "    <tr>\n",
       "      <th>0</th>\n",
       "      <td>0.0000</td>\n",
       "      <td>0.0000</td>\n",
       "      <td>2010-08-08 21:44:38</td>\n",
       "      <td>PtowPIzpewhu</td>\n",
       "    </tr>\n",
       "    <tr>\n",
       "      <th>1</th>\n",
       "      <td>0.0000</td>\n",
       "      <td>0.0000</td>\n",
       "      <td>2011-03-19 16:48:35</td>\n",
       "      <td>dGOhNqNgNywF</td>\n",
       "    </tr>\n",
       "    <tr>\n",
       "      <th>2</th>\n",
       "      <td>-118.8878</td>\n",
       "      <td>39.5554</td>\n",
       "      <td>2011-08-01 22:22:40</td>\n",
       "      <td>RGTLwBQugFNU</td>\n",
       "    </tr>\n",
       "    <tr>\n",
       "      <th>3</th>\n",
       "      <td>-74.6049</td>\n",
       "      <td>39.3308</td>\n",
       "      <td>2011-11-11 21:36:54</td>\n",
       "      <td>YNBV5GZkeM2E</td>\n",
       "    </tr>\n",
       "    <tr>\n",
       "      <th>4</th>\n",
       "      <td>-101.8747</td>\n",
       "      <td>33.4269</td>\n",
       "      <td>2012-12-24 22:50:15</td>\n",
       "      <td>oqLyjjYghOMi</td>\n",
       "    </tr>\n",
       "  </tbody>\n",
       "</table>\n",
       "</div>"
      ],
      "text/plain": [
       "   Longitude  Latitude            Timestamp            ID\n",
       "0     0.0000    0.0000  2010-08-08 21:44:38  PtowPIzpewhu\n",
       "1     0.0000    0.0000  2011-03-19 16:48:35  dGOhNqNgNywF\n",
       "2  -118.8878   39.5554  2011-08-01 22:22:40  RGTLwBQugFNU\n",
       "3   -74.6049   39.3308  2011-11-11 21:36:54  YNBV5GZkeM2E\n",
       "4  -101.8747   33.4269  2012-12-24 22:50:15  oqLyjjYghOMi"
      ]
     },
     "execution_count": 3,
     "metadata": {},
     "output_type": "execute_result"
    }
   ],
   "source": [
    "df_geodata = pd.read_csv(geodata_path)\n",
    "df_geodata.head()"
   ]
  },
  {
   "cell_type": "markdown",
   "id": "b039f7a2",
   "metadata": {},
   "source": [
    "### Exploring How the Package Works, Testing Performance"
   ]
  },
  {
   "cell_type": "code",
   "execution_count": 19,
   "id": "dd54d822",
   "metadata": {},
   "outputs": [],
   "source": [
    "def get_coord(index):\n",
    "    x = df_geodata.loc[index, ['Longitude', 'Latitude']]\n",
    "    return x.Longitude, x.Latitude\n",
    "\n",
    "def viz_coord(index):\n",
    "    lon, lat = get_coord(index)\n",
    "    results = rg.search((lat, lon))\n",
    "    print(lon, lat)\n",
    "    print(results)"
   ]
  },
  {
   "cell_type": "code",
   "execution_count": 20,
   "id": "4652f048",
   "metadata": {},
   "outputs": [
    {
     "name": "stdout",
     "output_type": "stream",
     "text": [
      "0.0 0.0\n",
      "[{'lat': '4.88447', 'lon': '-1.75536', 'name': 'Takoradi', 'admin1': 'Western', 'admin2': '', 'cc': 'GH'}]\n"
     ]
    }
   ],
   "source": [
    "viz_coord(0)"
   ]
  },
  {
   "cell_type": "code",
   "execution_count": 21,
   "id": "f1bed11e",
   "metadata": {},
   "outputs": [
    {
     "name": "stdout",
     "output_type": "stream",
     "text": [
      "-118.8878 39.5554\n",
      "[{'lat': '39.47353', 'lon': '-118.77737', 'name': 'Fallon', 'admin1': 'Nevada', 'admin2': 'Churchill County', 'cc': 'US'}]\n"
     ]
    }
   ],
   "source": [
    "viz_coord(2)"
   ]
  },
  {
   "cell_type": "code",
   "execution_count": 22,
   "id": "99d70a3c",
   "metadata": {
    "scrolled": true
   },
   "outputs": [
    {
     "name": "stdout",
     "output_type": "stream",
     "text": [
      "-74.6049 39.3308\n",
      "[{'lat': '39.31762', 'lon': '-74.5946', 'name': 'Somers Point', 'admin1': 'New Jersey', 'admin2': 'Atlantic County', 'cc': 'US'}]\n"
     ]
    }
   ],
   "source": [
    "viz_coord(3)"
   ]
  },
  {
   "cell_type": "markdown",
   "id": "a51c103b",
   "metadata": {},
   "source": [
    "### Filtering Data to Remove Missing Locations"
   ]
  },
  {
   "cell_type": "code",
   "execution_count": 33,
   "id": "28bafc7a",
   "metadata": {},
   "outputs": [
    {
     "name": "stdout",
     "output_type": "stream",
     "text": [
      "68284\n",
      "63941\n"
     ]
    }
   ],
   "source": [
    "rows = [(r[1].Latitude, r[1].Longitude) for r in df_geodata.iterrows()\n",
    "       if np.abs(r[1].Latitude) > 1 and np.abs(r[1].Longitude) > 1]\n",
    "\n",
    "print(len(df_geodata))\n",
    "print(len(rows))"
   ]
  },
  {
   "cell_type": "markdown",
   "id": "97100771",
   "metadata": {},
   "source": [
    "### Getting Information"
   ]
  },
  {
   "cell_type": "code",
   "execution_count": 36,
   "id": "f2eed8ec",
   "metadata": {
    "scrolled": false
   },
   "outputs": [
    {
     "name": "stderr",
     "output_type": "stream",
     "text": [
      "100%|██████████| 64/64 [00:41<00:00,  1.53it/s]\n"
     ]
    }
   ],
   "source": [
    "batch_size = 1000\n",
    "locations = []\n",
    "\n",
    "for b in tqdm(range(0, len(rows), batch_size)):\n",
    "    data = rows[b:b+batch_size]\n",
    "    results = rg.search(data)\n",
    "    locations += results"
   ]
  },
  {
   "cell_type": "markdown",
   "id": "c19a7258",
   "metadata": {},
   "source": [
    "### Cleaning Output"
   ]
  },
  {
   "cell_type": "code",
   "execution_count": 44,
   "id": "d3c6054e",
   "metadata": {},
   "outputs": [],
   "source": [
    "row_timestamps = [(r[1].Timestamp) for r in df_geodata.iterrows()\n",
    "                  if np.abs(r[1].Latitude) > 1 and np.abs(r[1].Longitude) > 1]"
   ]
  },
  {
   "cell_type": "code",
   "execution_count": 45,
   "id": "e9c4e073",
   "metadata": {
    "scrolled": true
   },
   "outputs": [
    {
     "name": "stdout",
     "output_type": "stream",
     "text": [
      "63941 63941\n"
     ]
    }
   ],
   "source": [
    "print(len(locations), len(row_timestamps))"
   ]
  },
  {
   "cell_type": "code",
   "execution_count": 46,
   "id": "2966ab64",
   "metadata": {},
   "outputs": [],
   "source": [
    "usa_videos = {\n",
    "    'data_points': [\n",
    "        {'location': loc, 'timestamp': t} for loc, t in zip(locations, row_timestamps)\n",
    "        if loc['cc']=='US'\n",
    "    ]\n",
    "}"
   ]
  },
  {
   "cell_type": "code",
   "execution_count": 47,
   "id": "3ee456f7",
   "metadata": {
    "scrolled": true
   },
   "outputs": [
    {
     "name": "stdout",
     "output_type": "stream",
     "text": [
      "59026\n"
     ]
    }
   ],
   "source": [
    "print(len(usa_videos['data_points']))"
   ]
  },
  {
   "cell_type": "markdown",
   "id": "b17fc00a",
   "metadata": {},
   "source": [
    "### Testing Results"
   ]
  },
  {
   "cell_type": "code",
   "execution_count": 50,
   "id": "24773456",
   "metadata": {},
   "outputs": [
    {
     "name": "stdout",
     "output_type": "stream",
     "text": [
      "{'location': {'lat': '39.47353', 'lon': '-118.77737', 'name': 'Fallon', 'admin1': 'Nevada', 'admin2': 'Churchill County', 'cc': 'US'}, 'timestamp': '2011-08-01 22:22:40'}\n"
     ]
    }
   ],
   "source": [
    "print(usa_videos['data_points'][0])"
   ]
  },
  {
   "cell_type": "code",
   "execution_count": 51,
   "id": "621982c4",
   "metadata": {},
   "outputs": [
    {
     "name": "stdout",
     "output_type": "stream",
     "text": [
      "{'location': {'lat': '39.31762', 'lon': '-74.5946', 'name': 'Somers Point', 'admin1': 'New Jersey', 'admin2': 'Atlantic County', 'cc': 'US'}, 'timestamp': '2011-11-11 21:36:54'}\n"
     ]
    }
   ],
   "source": [
    "print(usa_videos['data_points'][1])"
   ]
  },
  {
   "cell_type": "code",
   "execution_count": 52,
   "id": "a5a6a192",
   "metadata": {},
   "outputs": [
    {
     "name": "stdout",
     "output_type": "stream",
     "text": [
      "{'location': {'lat': '40.40372', 'lon': '-73.99153', 'name': 'Highlands', 'admin1': 'New Jersey', 'admin2': 'Monmouth County', 'cc': 'US'}, 'timestamp': '2019-10-19 15:51:45'}\n"
     ]
    }
   ],
   "source": [
    "print(usa_videos['data_points'][1234])"
   ]
  },
  {
   "cell_type": "code",
   "execution_count": 53,
   "id": "49b9686f",
   "metadata": {},
   "outputs": [
    {
     "name": "stdout",
     "output_type": "stream",
     "text": [
      "{'location': {'lat': '44.16358', 'lon': '-93.9994', 'name': 'Mankato', 'admin1': 'Minnesota', 'admin2': 'Blue Earth County', 'cc': 'US'}, 'timestamp': '2020-10-31 20:43:04'}\n"
     ]
    }
   ],
   "source": [
    "print(usa_videos['data_points'][22462])"
   ]
  },
  {
   "cell_type": "code",
   "execution_count": 54,
   "id": "d8c5802f",
   "metadata": {
    "scrolled": true
   },
   "outputs": [
    {
     "name": "stdout",
     "output_type": "stream",
     "text": [
      "{'location': {'lat': '38.89511', 'lon': '-77.03637', 'name': 'Washington, D.C.', 'admin1': 'Washington, D.C.', 'admin2': '', 'cc': 'US'}, 'timestamp': '2020-11-15 01:02:28'}\n"
     ]
    }
   ],
   "source": [
    "print(usa_videos['data_points'][35121])"
   ]
  },
  {
   "cell_type": "markdown",
   "id": "10b3421c",
   "metadata": {},
   "source": [
    "### Saving All Datapoints"
   ]
  },
  {
   "cell_type": "code",
   "execution_count": 56,
   "id": "3a740e78",
   "metadata": {},
   "outputs": [],
   "source": [
    "with open('usa_videos.json', 'w') as f:\n",
    "    json.dump(usa_videos, f)"
   ]
  },
  {
   "cell_type": "markdown",
   "id": "befd19de",
   "metadata": {},
   "source": [
    "### Saving a Subset"
   ]
  },
  {
   "cell_type": "code",
   "execution_count": 63,
   "id": "a4fa0f8e",
   "metadata": {},
   "outputs": [],
   "source": [
    "np.random.seed(0)\n",
    "small_videos_idxs = np.random.choice(len(usa_videos['data_points']), 2500, replace=False)"
   ]
  },
  {
   "cell_type": "code",
   "execution_count": 64,
   "id": "bf55b73a",
   "metadata": {},
   "outputs": [],
   "source": [
    "usa_videos_small = {\n",
    "    'data_points': [\n",
    "        dp for i, dp in enumerate(usa_videos['data_points'])\n",
    "        if i in small_videos_idxs\n",
    "    ]\n",
    "}"
   ]
  },
  {
   "cell_type": "code",
   "execution_count": 66,
   "id": "caa42dbf",
   "metadata": {},
   "outputs": [
    {
     "name": "stdout",
     "output_type": "stream",
     "text": [
      "2500\n"
     ]
    }
   ],
   "source": [
    "print(len(usa_videos_small['data_points']))"
   ]
  },
  {
   "cell_type": "code",
   "execution_count": 67,
   "id": "b8d2857d",
   "metadata": {},
   "outputs": [],
   "source": [
    "with open('usa_videos_2500.json', 'w') as f:\n",
    "    json.dump(usa_videos_small, f)"
   ]
  }
 ],
 "metadata": {
  "kernelspec": {
   "display_name": "Python 3",
   "language": "python",
   "name": "python3"
  },
  "language_info": {
   "codemirror_mode": {
    "name": "ipython",
    "version": 3
   },
   "file_extension": ".py",
   "mimetype": "text/x-python",
   "name": "python",
   "nbconvert_exporter": "python",
   "pygments_lexer": "ipython3",
   "version": "3.8.8"
  }
 },
 "nbformat": 4,
 "nbformat_minor": 5
}
